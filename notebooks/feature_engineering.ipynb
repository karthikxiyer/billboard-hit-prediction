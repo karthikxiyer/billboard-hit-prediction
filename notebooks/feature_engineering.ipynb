{
 "cells": [
  {
   "cell_type": "code",
   "execution_count": 1,
   "metadata": {
    "scrolled": true
   },
   "outputs": [],
   "source": [
    "import pandas as pd\n",
    "import numpy as np"
   ]
  },
  {
   "cell_type": "code",
   "execution_count": null,
   "metadata": {
    "scrolled": true
   },
   "outputs": [],
   "source": [
    "data = pd.read_csv('../data/songs.csv', index_col=0)"
   ]
  },
  {
   "cell_type": "code",
   "execution_count": null,
   "metadata": {
    "scrolled": true
   },
   "outputs": [],
   "source": [
    "data.Title = data['Title'].str.lower()\n",
    "data.Artist = data['Artist'].str.lower()"
   ]
  },
  {
   "cell_type": "code",
   "execution_count": null,
   "metadata": {
    "scrolled": true
   },
   "outputs": [],
   "source": [
    "data.head()"
   ]
  },
  {
   "cell_type": "markdown",
   "metadata": {},
   "source": [
    "# Get Spotify URI"
   ]
  },
  {
   "cell_type": "code",
   "execution_count": 2,
   "metadata": {
    "scrolled": true
   },
   "outputs": [],
   "source": [
    "from spotipy.oauth2 import SpotifyClientCredentials\n",
    "from tqdm import tqdm_notebook\n",
    "import spotipy\n",
    "import spotipy.util as util\n",
    "import re\n",
    "from fuzzywuzzy import fuzz\n",
    "from fuzzywuzzy import process\n",
    "import time"
   ]
  },
  {
   "cell_type": "code",
   "execution_count": 3,
   "metadata": {
    "scrolled": true
   },
   "outputs": [],
   "source": [
    "token = util.oauth2.SpotifyClientCredentials(client_id='73d7e59bc32d4de39730cf12f4fc98ee', client_secret='a8025ef05dd1463995e3c670806ea6cb')\n",
    "cache_token = token.get_access_token()\n",
    "spotify = spotipy.Spotify(cache_token)\n",
    "sp = spotipy.Spotify(auth=cache_token)"
   ]
  },
  {
   "cell_type": "code",
   "execution_count": null,
   "metadata": {
    "scrolled": true
   },
   "outputs": [],
   "source": [
    "titles = list(data.Title)\n",
    "artists = list(data.Artist)"
   ]
  },
  {
   "cell_type": "code",
   "execution_count": null,
   "metadata": {
    "scrolled": true
   },
   "outputs": [],
   "source": [
    "spotify_uri = list()\n",
    "errors = list()"
   ]
  },
  {
   "cell_type": "code",
   "execution_count": null,
   "metadata": {
    "scrolled": true
   },
   "outputs": [],
   "source": [
    "def get_spotify_uri(title, artist):\n",
    "    title_clean = re.sub(r\"[,.;@#?!&$%()]+\", ' ', title)\n",
    "    title_clean = re.sub('\\s+', ' ', title_clean).strip()\n",
    "    artist_clean = re.sub('\\s+', ' ', artist).strip()\n",
    "    \n",
    "    query = title_clean + \" \" + artist_clean\n",
    "    \n",
    "    search = sp.search(q=query, limit=50, offset=0, type='track', market='US')\n",
    "    search_items = search['tracks']['items']\n",
    "    \n",
    "    for i in range(len(search_items)):\n",
    "        spotify_title = search_items[i]['name']\n",
    "        spotify_artist = search_items[i]['artists'][0]['name']\n",
    "        \n",
    "        spotify_title_clean = re.sub(r\"[,.;@#?!&$%()]+\", ' ', spotify_title)\n",
    "        spotify_title_clean = re.sub('\\s+', ' ', title_clean).strip().lower()\n",
    "        spotify_artist_clean = spotify_artist.lower().strip().lower()\n",
    "        \n",
    "        fuzzy_title_match = fuzz.token_set_ratio(title_clean, spotify_title_clean)\n",
    "        fuzzy_artist_match = fuzz.token_set_ratio(artist_clean, spotify_artist_clean)\n",
    "        fuzzy_match = (fuzzy_title_match + fuzzy_artist_match) / 2\n",
    "\n",
    "        if (fuzzy_title_match >= 90) and (fuzzy_artist_match >= 50) and fuzzy_match >= 75:\n",
    "            uri = search_items[i]['id']\n",
    "            return uri\n",
    "    return 0"
   ]
  },
  {
   "cell_type": "code",
   "execution_count": null,
   "metadata": {},
   "outputs": [],
   "source": [
    "temp = list()\n",
    "\n",
    "for i in tqdm_notebook(range(0, 1000)):\n",
    "    uri = get_spotify_uri(titles[i], artists[i])\n",
    "    \n",
    "    if uri != 0:\n",
    "        temp.append(uri)\n",
    "    else:\n",
    "        temp.append(uri)\n",
    "        errors.append(i)\n",
    "        \n",
    "spotify_uri = spotify_uri + temp"
   ]
  },
  {
   "cell_type": "code",
   "execution_count": null,
   "metadata": {},
   "outputs": [],
   "source": [
    "data['URI'] = spotify_uri\n",
    "data = data[data.URI != 0]"
   ]
  },
  {
   "cell_type": "code",
   "execution_count": null,
   "metadata": {},
   "outputs": [],
   "source": [
    "# data.to_csv('songs_w_uri.csv')"
   ]
  },
  {
   "cell_type": "markdown",
   "metadata": {},
   "source": [
    "# Get Spotify Features"
   ]
  },
  {
   "cell_type": "code",
   "execution_count": null,
   "metadata": {},
   "outputs": [],
   "source": [
    "from spotipy.oauth2 import SpotifyClientCredentials\n",
    "from tqdm import tqdm_notebook\n",
    "import spotipy\n",
    "import spotipy.util as util\n",
    "import re"
   ]
  },
  {
   "cell_type": "code",
   "execution_count": null,
   "metadata": {},
   "outputs": [],
   "source": [
    "token = util.oauth2.SpotifyClientCredentials(client_id='73d7e59bc32d4de39730cf12f4fc98ee', client_secret='a8025ef05dd1463995e3c670806ea6cb')\n",
    "cache_token = token.get_access_token()\n",
    "spotify = spotipy.Spotify(cache_token)\n",
    "sp = spotipy.Spotify(auth=cache_token)"
   ]
  },
  {
   "cell_type": "code",
   "execution_count": null,
   "metadata": {},
   "outputs": [],
   "source": [
    "data = pd.read_csv('../data/songs_w_uri.csv', index_col=0)"
   ]
  },
  {
   "cell_type": "code",
   "execution_count": null,
   "metadata": {},
   "outputs": [],
   "source": [
    "uris = list(data.URI)\n",
    "\n",
    "danceability_list = list()\n",
    "energy_list = list()\n",
    "key_list = list()\n",
    "loudness_list = list()\n",
    "mode_list = list()\n",
    "speechiness_list = list()\n",
    "acousticness_list = list()\n",
    "instrumentalness_list = list()\n",
    "liveness_list = list()\n",
    "valence_list = list()\n",
    "tempo_list = list()\n",
    "duration_list = list()\n",
    "time_signature_list= list()"
   ]
  },
  {
   "cell_type": "code",
   "execution_count": null,
   "metadata": {},
   "outputs": [],
   "source": [
    "def get_audio_features(uri):\n",
    "    search = sp.audio_features(uri)\n",
    "    if search[0] == None:\n",
    "        danceability_list.append(np.nan)\n",
    "        energy_list.append(np.nan)\n",
    "        key_list.append(np.nan)\n",
    "        loudness_list.append(np.nan)\n",
    "        mode_list.append(np.nan)\n",
    "        speechiness_list.append(np.nan)\n",
    "        acousticness_list.append(np.nan)\n",
    "        instrumentalness_list.append(np.nan)\n",
    "        liveness_list.append(np.nan)\n",
    "        valence_list.append(np.nan)\n",
    "        tempo_list.append(np.nan)\n",
    "        duration_list.append(np.nan)\n",
    "        time_signature_list.append(np.nan) \n",
    "        return ('Error on: ' + str(uri))\n",
    "    \n",
    "    search_list = search[0]\n",
    "    \n",
    "    danceability_list.append(search_list['danceability'])\n",
    "    energy_list.append(search_list['energy'])\n",
    "    key_list.append(search_list['key'])\n",
    "    loudness_list.append(search_list['loudness'])\n",
    "    mode_list.append(search_list['mode'])\n",
    "    speechiness_list.append(search_list['speechiness'])\n",
    "    acousticness_list.append(search_list['acousticness'])\n",
    "    instrumentalness_list.append(search_list['instrumentalness'])\n",
    "    liveness_list.append(search_list['liveness'])\n",
    "    valence_list.append(search_list['valence'])\n",
    "    tempo_list.append(search_list['tempo'])\n",
    "    duration_list.append(search_list['duration_ms'])\n",
    "    time_signature_list.append(search_list['time_signature'])"
   ]
  },
  {
   "cell_type": "code",
   "execution_count": null,
   "metadata": {},
   "outputs": [],
   "source": [
    "for i in tqdm_notebook(range(len(uris))):\n",
    "    get_audio_features(uris[i])"
   ]
  },
  {
   "cell_type": "code",
   "execution_count": null,
   "metadata": {},
   "outputs": [],
   "source": [
    "data['Danceability'] = danceability_list\n",
    "data['Energy'] = energy_list\n",
    "data['Key'] = key_list\n",
    "data['Loudness'] = loudness_list\n",
    "data['Mode'] = mode_list\n",
    "data['Speechiness'] = speechiness_list\n",
    "data['Acousticness'] = acousticness_list\n",
    "data['Instrumentalness'] = instrumentalness_list\n",
    "data['Liveness'] = liveness_list\n",
    "data['Valence'] = valence_list\n",
    "data['Tempo'] = tempo_list\n",
    "data['Duration'] = duration_list\n",
    "data['Time_Signature'] = time_signature_list"
   ]
  },
  {
   "cell_type": "code",
   "execution_count": null,
   "metadata": {},
   "outputs": [],
   "source": [
    "data = data.dropna()"
   ]
  },
  {
   "cell_type": "code",
   "execution_count": null,
   "metadata": {},
   "outputs": [],
   "source": [
    "# data.to_csv('songs_w_spotifyapi.csv')"
   ]
  },
  {
   "cell_type": "markdown",
   "metadata": {},
   "source": [
    "# Get Lyrics from Musixmatch"
   ]
  },
  {
   "cell_type": "code",
   "execution_count": null,
   "metadata": {},
   "outputs": [],
   "source": [
    "import requests\n",
    "import json\n",
    "import pandas as pd\n",
    "import numpy as np\n",
    "from musixmatch import Musixmatch\n",
    "from tqdm import tqdm_notebook"
   ]
  },
  {
   "cell_type": "code",
   "execution_count": null,
   "metadata": {},
   "outputs": [],
   "source": [
    "api_key = '7d8043070d8b187e54fbcb656e8537aa'\n",
    "musixmatch = Musixmatch(api_key)"
   ]
  },
  {
   "cell_type": "code",
   "execution_count": null,
   "metadata": {},
   "outputs": [],
   "source": [
    "data = pd.read_csv(\"../data/songs_w_spotifyapi.csv\", index_col=0)"
   ]
  },
  {
   "cell_type": "code",
   "execution_count": null,
   "metadata": {},
   "outputs": [],
   "source": [
    "data['lyrics'] = np.nan\n",
    "data['explicit'] = np.nan"
   ]
  },
  {
   "cell_type": "code",
   "execution_count": null,
   "metadata": {},
   "outputs": [],
   "source": [
    "lyrics_list = list()\n",
    "explicit_list = list()\n",
    "errors = list()"
   ]
  },
  {
   "cell_type": "code",
   "execution_count": null,
   "metadata": {},
   "outputs": [],
   "source": [
    "songs = list(data.Title)\n",
    "artists = list(data.Artist)"
   ]
  },
  {
   "cell_type": "code",
   "execution_count": null,
   "metadata": {},
   "outputs": [],
   "source": [
    "def get_lyrics(track, artist):\n",
    "    output = musixmatch.matcher_lyrics_get(track, artist)\n",
    "    \n",
    "    if (output['message']['body'] == ''):\n",
    "        return None\n",
    "    if (output['message']['body'] == []):\n",
    "        return None\n",
    "    else:\n",
    "        lyrics = output['message']['body']['lyrics']['lyrics_body'].split('***')[0]\n",
    "        explicit = output['message']['body']['lyrics']['explicit']\n",
    "        return [lyrics, explicit]"
   ]
  },
  {
   "cell_type": "code",
   "execution_count": null,
   "metadata": {},
   "outputs": [],
   "source": [
    "for i in tqdm_notebook(range(len(songs))):\n",
    "    song = songs[i]\n",
    "    artist = artists[i]\n",
    "    \n",
    "    output = get_lyrics(song, artist)\n",
    "    \n",
    "    if output == None:\n",
    "        lyrics_list.append(np.nan)\n",
    "        explicit_list.append(np.nan)\n",
    "        errors.append(i)\n",
    "    else:\n",
    "        lyrics_list.append(output[0])\n",
    "        explicit_list.append(output[1])"
   ]
  },
  {
   "cell_type": "code",
   "execution_count": null,
   "metadata": {},
   "outputs": [],
   "source": [
    "data.lyrics = lyrics_list\n",
    "data.explicit = explicit_list"
   ]
  },
  {
   "cell_type": "code",
   "execution_count": null,
   "metadata": {},
   "outputs": [],
   "source": [
    "data = data.dropna()"
   ]
  },
  {
   "cell_type": "code",
   "execution_count": null,
   "metadata": {},
   "outputs": [],
   "source": [
    "# data.to_csv('songs_w_features_lyrics.csv')"
   ]
  },
  {
   "cell_type": "markdown",
   "metadata": {},
   "source": [
    "# Get Year"
   ]
  },
  {
   "cell_type": "code",
   "execution_count": null,
   "metadata": {},
   "outputs": [],
   "source": [
    "data = pd.read_csv(\"../data/songs_w_features_lyrics.csv\", index_col=0)"
   ]
  },
  {
   "cell_type": "code",
   "execution_count": null,
   "metadata": {},
   "outputs": [],
   "source": [
    "songs = list(data.Title)\n",
    "artists = list(data.Artist)\n",
    "years = list()\n",
    "errors = list()"
   ]
  },
  {
   "cell_type": "code",
   "execution_count": null,
   "metadata": {},
   "outputs": [],
   "source": [
    "def get_song_year(title, artist):\n",
    "    title_clean = re.sub(r\"[,.;@#?!&$%()]+\", ' ', title)\n",
    "    title_clean = re.sub('\\s+', ' ', title_clean).strip()\n",
    "    artist_clean = re.sub('\\s+', ' ', artist).strip()\n",
    "    \n",
    "    query = title_clean + \" \" + artist_clean\n",
    "    \n",
    "    try:\n",
    "        search = sp.search(q=query, limit=50, offset=0, type='track')\n",
    "        search_items = search['tracks']['items']\n",
    "        year = search_items[0]['album']['release_date']\n",
    "        return year\n",
    "    except Exception:\n",
    "        year = 0\n",
    "        return year"
   ]
  },
  {
   "cell_type": "code",
   "execution_count": null,
   "metadata": {},
   "outputs": [],
   "source": [
    "for i in tqdm_notebook(range(len(songs))):\n",
    "    year = get_song_year(songs[i], artists[i])\n",
    "    \n",
    "    if year != 0 :\n",
    "        years.append(year)\n",
    "    else:\n",
    "        years.append(year)\n",
    "        print(\"Errored on \" + str(i))\n",
    "        errors.append(i)    "
   ]
  },
  {
   "cell_type": "code",
   "execution_count": null,
   "metadata": {},
   "outputs": [],
   "source": [
    "new_years = list()\n",
    "\n",
    "def clean_year(date):\n",
    "    y = date.split('-')[0]\n",
    "    return int(y)"
   ]
  },
  {
   "cell_type": "code",
   "execution_count": null,
   "metadata": {},
   "outputs": [],
   "source": [
    "for i in years:\n",
    "    if i == 0:\n",
    "        new_years.append(i)\n",
    "    else:\n",
    "        x = clean_year(i)\n",
    "        new_years.append(x)"
   ]
  },
  {
   "cell_type": "code",
   "execution_count": null,
   "metadata": {},
   "outputs": [],
   "source": [
    "data['Release_Year'] = new_years\n",
    "data = data[data.Release_Year != 0]"
   ]
  },
  {
   "cell_type": "code",
   "execution_count": null,
   "metadata": {},
   "outputs": [],
   "source": [
    "# data.to_csv('songs_w_features_lyrics_year.csv')"
   ]
  },
  {
   "cell_type": "markdown",
   "metadata": {},
   "source": [
    "# Get Genre"
   ]
  },
  {
   "cell_type": "code",
   "execution_count": 35,
   "metadata": {},
   "outputs": [],
   "source": [
    "data = pd.read_csv('../data/songs_w_features_lyrics_year.csv', index_col=0)"
   ]
  },
  {
   "cell_type": "code",
   "execution_count": 28,
   "metadata": {},
   "outputs": [],
   "source": [
    "artists = list(data.Artist)"
   ]
  },
  {
   "cell_type": "code",
   "execution_count": 29,
   "metadata": {},
   "outputs": [],
   "source": [
    "def get_first_artist(artist):\n",
    "    \n",
    "    #Handling , or and\n",
    "    for i in range(len(artist)):\n",
    "        if artist[i] == ',' or artist[i] == '&':\n",
    "              return artist[0:i]\n",
    "        if artist[i:i+3] == 'and':\n",
    "              return artist[0:i]\n",
    "    return artist\n",
    "\n",
    "#Helper function to take subgenres of each artist and find the most frequent common genre within potentially 1000 subgenres\n",
    "def get_common_genres(test_subgenres, common_genre_keywords):\n",
    "    \n",
    "    final_genres = []\n",
    "    genre_frequency_map = {}\n",
    "  \n",
    "    #Checking the subgenres to see if they match common genre keywords\n",
    "\n",
    "    for keyword in common_genre_keywords:\n",
    "        for subg in test_subgenres:\n",
    "            if keyword in subg:\n",
    "                final_genres.append(keyword)\n",
    "\n",
    "    #If no final genres can be identified, return None.\n",
    "    if len(final_genres) == 0:\n",
    "        return \"None\"\n",
    "\n",
    "    #Counting the number of each genre keyword and returning the one with the highest count (as the \"common genre\")\n",
    "\n",
    "    for genre in final_genres:\n",
    "        if genre in genre_frequency_map.keys():\n",
    "            current_value = genre_frequency_map[genre]\n",
    "            genre_frequency_map[genre] = current_value + 1\n",
    "        else:\n",
    "            genre_frequency_map[genre] = 1\n",
    "\n",
    "    #Getting most frequent common genre.\n",
    "\n",
    "    max_value = max(genre_frequency_map.values())  # maximum value\n",
    "    max_keys = [k for k, v in genre_frequency_map.items() if v == max_value]\n",
    "    return max_keys[0]"
   ]
  },
  {
   "cell_type": "code",
   "execution_count": 30,
   "metadata": {},
   "outputs": [],
   "source": [
    "def get_genres_for_each_artist(artists):\n",
    "    \n",
    "    final_genre_list = []\n",
    "    #Most popular American Music Genres\n",
    "    common_genre_keywords = [\"rap\", \"pop\", \"rock\", \"country\", \"alternative\", \"r&b\" \"latin\", \"edm\", \"seasonal\", \"jazz\", \"classical\", \"metal\", \"reggae\"]\n",
    "    \n",
    "    for i in tqdm_notebook(range(len(artists))):\n",
    "        artist_name = artists[i]\n",
    "        #Clean Artist Name \n",
    "        artist_name = get_first_artist(artist_name)\n",
    "        #Include stripping code of and etc. here\n",
    " \n",
    "        #stripping regex symbols and getting the prominent artist name\n",
    "      \n",
    "        #artist_name = re.sub(r\"[,.;@#?!&$-/]+\", ' ', artist_name)\n",
    "        #artist_name = re.sub('\\s+', ' ', artist_name).strip()\n",
    "        #artist_name = artist_name(' ')[0]\n",
    " \n",
    "        #Using the spotify search functionality and extracting the list of subgenres.\n",
    "        try:\n",
    "            search = sp.search(q=artist_name, limit=1, offset=0, type='artist', market='US')\n",
    "        except Exception:\n",
    "            print('Spotify error for ' + str(i))\n",
    "            final_genre_list.append('None')\n",
    "            continue\n",
    "            \n",
    "\n",
    "        try:\n",
    "            list_of_subgenres = search['artists']['items'][0]['genres']\n",
    "            common_genre = get_common_genres(list_of_subgenres, common_genre_keywords)\n",
    "            final_genre_list.append(common_genre)\n",
    "        except IndexError:\n",
    "            print('No Genre for ' + str(i))\n",
    "            final_genre_list.append('None')\n",
    "            continue\n",
    "    \n",
    "    return final_genre_list"
   ]
  },
  {
   "cell_type": "code",
   "execution_count": 31,
   "metadata": {},
   "outputs": [
    {
     "data": {
      "application/vnd.jupyter.widget-view+json": {
       "model_id": "a04fb54b97e94ef1be5ddb0f1858b090",
       "version_major": 2,
       "version_minor": 0
      },
      "text/plain": [
       "HBox(children=(IntProgress(value=0, max=11237), HTML(value='')))"
      ]
     },
     "metadata": {},
     "output_type": "display_data"
    },
    {
     "name": "stdout",
     "output_type": "stream",
     "text": [
      "No Genre for 9\n",
      "retrying ...1secs\n",
      "retrying ...1secs\n",
      "retrying ...1secs\n",
      "retrying ...1secs\n",
      "No Genre for 230\n",
      "retrying ...1secs\n",
      "retrying ...1secs\n",
      "No Genre for 318\n",
      "No Genre for 331\n",
      "retrying ...2secs\n",
      "retrying ...1secs\n",
      "No Genre for 482\n",
      "retrying ...2secs\n",
      "retrying ...1secs\n",
      "No Genre for 699\n",
      "No Genre for 832\n",
      "retrying ...2secs\n",
      "No Genre for 1124\n",
      "retrying ...2secs\n",
      "retrying ...1secs\n",
      "No Genre for 1158\n",
      "retrying ...1secs\n",
      "retrying ...1secs\n",
      "retrying ...1secs\n",
      "No Genre for 1499\n",
      "No Genre for 1564\n",
      "retrying ...1secs\n",
      "retrying ...1secs\n",
      "No Genre for 1712\n",
      "No Genre for 1723\n",
      "No Genre for 1837\n",
      "No Genre for 1841\n",
      "retrying ...2secs\n",
      "retrying ...1secs\n",
      "No Genre for 1852\n",
      "No Genre for 1860\n",
      "No Genre for 1887\n",
      "No Genre for 1956\n",
      "retrying ...1secs\n",
      "No Genre for 1998\n",
      "Spotify error for 2112\n",
      "retrying ...1secs\n",
      "retrying ...1secs\n",
      "No Genre for 2235\n",
      "No Genre for 2252\n",
      "Spotify error for 2273\n",
      "Spotify error for 2458\n",
      "Spotify error for 2510\n",
      "No Genre for 2512\n",
      "retrying ...2secs\n",
      "retrying ...1secs\n",
      "No Genre for 2578\n",
      "No Genre for 2605\n",
      "No Genre for 2612\n",
      "No Genre for 2617\n",
      "retrying ...2secs\n",
      "retrying ...1secs\n",
      "Spotify error for 2695\n",
      "No Genre for 2758\n",
      "retrying ...2secs\n",
      "retrying ...1secs\n",
      "No Genre for 2811\n",
      "No Genre for 2835\n",
      "retrying ...3secs\n",
      "retrying ...1secs\n",
      "No Genre for 3041\n",
      "No Genre for 3057\n",
      "No Genre for 3058\n",
      "Spotify error for 3065\n",
      "retrying ...1secs\n",
      "retrying ...1secs\n",
      "No Genre for 3493\n",
      "retrying ...1secs\n",
      "retrying ...2secs\n",
      "retrying ...1secs\n",
      "No Genre for 3840\n",
      "No Genre for 3884\n",
      "retrying ...1secs\n",
      "retrying ...2secs\n",
      "retrying ...1secs\n",
      "No Genre for 4174\n",
      "No Genre for 4219\n",
      "No Genre for 4278\n",
      "No Genre for 4279\n",
      "No Genre for 4304\n",
      "No Genre for 4331\n",
      "No Genre for 4335\n",
      "No Genre for 4368\n",
      "retrying ...2secs\n",
      "retrying ...1secs\n",
      "retrying ...2secs\n",
      "retrying ...1secs\n",
      "No Genre for 4586\n",
      "No Genre for 4592\n",
      "No Genre for 4599\n",
      "retrying ...2secs\n",
      "retrying ...1secs\n",
      "Spotify error for 4882\n",
      "retrying ...1secs\n",
      "retrying ...1secs\n",
      "No Genre for 5056\n",
      "retrying ...1secs\n",
      "retrying ...1secs\n",
      "retrying ...2secs\n",
      "retrying ...1secs\n",
      "No Genre for 5284\n",
      "retrying ...1secs\n",
      "retrying ...1secs\n",
      "No Genre for 5475\n",
      "No Genre for 5483\n",
      "No Genre for 5581\n",
      "No Genre for 5613\n",
      "No Genre for 5620\n",
      "retrying ...2secs\n",
      "retrying ...1secs\n",
      "No Genre for 5709\n",
      "No Genre for 5746\n",
      "retrying ...1secs\n",
      "retrying ...1secs\n",
      "No Genre for 5805\n",
      "No Genre for 5858\n",
      "No Genre for 5866\n",
      "retrying ...1secs\n",
      "retrying ...1secs\n",
      "retrying ...1secs\n",
      "No Genre for 6164\n",
      "No Genre for 6249\n",
      "No Genre for 6333\n",
      "retrying ...2secs\n",
      "retrying ...1secs\n",
      "No Genre for 6482\n",
      "No Genre for 6552\n",
      "No Genre for 6558\n",
      "retrying ...1secs\n",
      "retrying ...1secs\n",
      "No Genre for 6658\n",
      "retrying ...2secs\n",
      "retrying ...1secs\n",
      "retrying ...2secs\n",
      "No Genre for 6933\n",
      "No Genre for 6967\n",
      "retrying ...2secs\n",
      "retrying ...1secs\n",
      "retrying ...1secs\n",
      "No Genre for 7148\n",
      "Spotify error for 7229\n",
      "No Genre for 7232\n",
      "retrying ...1secs\n",
      "retrying ...1secs\n",
      "retrying ...1secs\n",
      "retrying ...1secs\n",
      "No Genre for 7395\n",
      "Spotify error for 7434\n",
      "retrying ...1secs\n",
      "Spotify error for 7547\n",
      "retrying ...1secs\n",
      "retrying ...1secs\n",
      "No Genre for 7586\n",
      "No Genre for 7620\n",
      "retrying ...1secs\n",
      "retrying ...1secs\n",
      "No Genre for 7698\n",
      "No Genre for 7760\n",
      "No Genre for 7813\n",
      "retrying ...2secs\n",
      "retrying ...1secs\n",
      "Spotify error for 8004\n",
      "retrying ...1secs\n",
      "retrying ...1secs\n",
      "No Genre for 8081\n",
      "No Genre for 8089\n",
      "No Genre for 8182\n",
      "retrying ...1secs\n",
      "retrying ...1secs\n",
      "Spotify error for 8397\n",
      "No Genre for 8571\n",
      "No Genre for 8649\n",
      "Spotify error for 8709\n",
      "Spotify error for 8735\n",
      "No Genre for 8737\n",
      "retrying ...2secs\n",
      "retrying ...1secs\n",
      "No Genre for 8769\n",
      "retrying ...1secs\n",
      "retrying ...1secs\n",
      "No Genre for 9007\n",
      "retrying ...1secs\n",
      "retrying ...1secs\n",
      "No Genre for 9097\n",
      "No Genre for 9165\n",
      "retrying ...1secs\n",
      "retrying ...1secs\n",
      "No Genre for 9267\n",
      "Spotify error for 9299\n",
      "Spotify error for 9301\n",
      "Spotify error for 9369\n",
      "No Genre for 9370\n",
      "Spotify error for 9503\n",
      "Spotify error for 9511\n",
      "Spotify error for 9522\n",
      "Spotify error for 9531\n",
      "No Genre for 9647\n",
      "retrying ...1secs\n",
      "retrying ...1secs\n",
      "No Genre for 9798\n",
      "retrying ...1secs\n",
      "retrying ...1secs\n",
      "retrying ...2secs\n",
      "retrying ...1secs\n",
      "retrying ...2secs\n",
      "retrying ...1secs\n",
      "retrying ...1secs\n",
      "No Genre for 10397\n",
      "retrying ...2secs\n",
      "retrying ...1secs\n",
      "No Genre for 10501\n",
      "No Genre for 10513\n",
      "retrying ...2secs\n",
      "retrying ...1secs\n",
      "Spotify error for 10584\n",
      "No Genre for 10585\n",
      "No Genre for 10646\n",
      "No Genre for 10665\n",
      "No Genre for 10669\n",
      "No Genre for 10686\n",
      "retrying ...2secs\n",
      "retrying ...1secs\n",
      "No Genre for 10773\n",
      "No Genre for 10802\n",
      "retrying ...1secs\n",
      "retrying ...1secs\n",
      "No Genre for 10846\n",
      "No Genre for 10863\n",
      "No Genre for 10883\n",
      "No Genre for 10886\n",
      "retrying ...1secs\n",
      "retrying ...1secs\n",
      "Spotify error for 10956\n",
      "No Genre for 10987\n",
      "No Genre for 11040\n",
      "retrying ...1secs\n",
      "No Genre for 11069\n",
      "No Genre for 11121\n",
      "retrying ...1secs\n",
      "No Genre for 11180\n",
      "No Genre for 11211\n"
     ]
    }
   ],
   "source": [
    "genres_list = get_genres_for_each_artist(artists)"
   ]
  },
  {
   "cell_type": "code",
   "execution_count": 36,
   "metadata": {},
   "outputs": [],
   "source": [
    "data['Genre'] = genres_list\n",
    "data = data[data['Genre'] != 'None']"
   ]
  },
  {
   "cell_type": "code",
   "execution_count": 38,
   "metadata": {},
   "outputs": [],
   "source": [
    "# data.to_csv('songs_complete_data.csv')"
   ]
  },
  {
   "cell_type": "code",
   "execution_count": null,
   "metadata": {},
   "outputs": [],
   "source": []
  }
 ],
 "metadata": {
  "kernelspec": {
   "display_name": "Python 3",
   "language": "python",
   "name": "python3"
  },
  "language_info": {
   "codemirror_mode": {
    "name": "ipython",
    "version": 3
   },
   "file_extension": ".py",
   "mimetype": "text/x-python",
   "name": "python",
   "nbconvert_exporter": "python",
   "pygments_lexer": "ipython3",
   "version": "3.7.3"
  }
 },
 "nbformat": 4,
 "nbformat_minor": 2
}
